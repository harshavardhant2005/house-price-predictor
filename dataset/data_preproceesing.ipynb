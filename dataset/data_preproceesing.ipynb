{
 "cells": [
  {
   "cell_type": "code",
   "execution_count": null,
   "id": "1d741532",
   "metadata": {},
   "outputs": [
    {
     "ename": "ModuleNotFoundError",
     "evalue": "No module named 'pandas'",
     "output_type": "error",
     "traceback": [
      "\u001b[31m---------------------------------------------------------------------------\u001b[39m",
      "\u001b[31mModuleNotFoundError\u001b[39m                       Traceback (most recent call last)",
      "\u001b[36mCell\u001b[39m\u001b[36m \u001b[39m\u001b[32mIn[3]\u001b[39m\u001b[32m, line 1\u001b[39m\n\u001b[32m----> \u001b[39m\u001b[32m1\u001b[39m \u001b[38;5;28;01mimport\u001b[39;00m\u001b[38;5;250m \u001b[39m\u001b[34;01mpandas\u001b[39;00m\u001b[38;5;250m \u001b[39m\u001b[38;5;28;01mas\u001b[39;00m\u001b[38;5;250m \u001b[39m\u001b[34;01mpd\u001b[39;00m\n\u001b[32m      2\u001b[39m \u001b[38;5;28;01mimport\u001b[39;00m\u001b[38;5;250m \u001b[39m\u001b[34;01mnumpy\u001b[39;00m\u001b[38;5;250m \u001b[39m\u001b[38;5;28;01mas\u001b[39;00m\u001b[38;5;250m \u001b[39m\u001b[34;01mnp\u001b[39;00m\n",
      "\u001b[31mModuleNotFoundError\u001b[39m: No module named 'pandas'"
     ]
    }
   ],
   "source": [
    "import pandas as pd\n",
    "import numpy as np\n"
   ]
  },
  {
   "cell_type": "markdown",
   "id": "bba88088",
   "metadata": {},
   "source": [
    "### importing data using pandas"
   ]
  },
  {
   "cell_type": "code",
   "execution_count": null,
   "id": "2b6a5df8",
   "metadata": {},
   "outputs": [],
   "source": [
    "df = pd.read_csv(\"cleaned_property_data.csv\")\n",
    "df.head(5)"
   ]
  },
  {
   "cell_type": "markdown",
   "id": "ffa78118",
   "metadata": {},
   "source": [
    "### analysing null values "
   ]
  },
  {
   "cell_type": "code",
   "execution_count": null,
   "id": "8d094555",
   "metadata": {},
   "outputs": [],
   "source": [
    "df.isnull().any()"
   ]
  },
  {
   "cell_type": "markdown",
   "id": "bdb02923",
   "metadata": {},
   "source": [
    "### replace 4.5/ 5 to 4.5 in columns like neighbourhood and etc"
   ]
  },
  {
   "cell_type": "code",
   "execution_count": null,
   "id": "0729a775",
   "metadata": {},
   "outputs": [],
   "source": [
    "df[\"Connectivity\"]= df[\"Connectivity\"].str.replace(\"/5\",\"\",regex=False)\n",
    "df[\"Neighbourhood\"]= df[\"Neighbourhood\"].str.replace(\"/5\",\"\",regex=False)\n",
    "df[\"Safety\"]= df[\"Safety\"].str.replace(\"/5\",\"\",regex=False)\n",
    "df[\"Livability\"]= df[\"Livability\"].str.replace(\"/5\",\"\",regex=False)"
   ]
  },
  {
   "cell_type": "markdown",
   "id": "195c604f",
   "metadata": {},
   "source": [
    "### replace different values with nan"
   ]
  },
  {
   "cell_type": "code",
   "execution_count": null,
   "id": "94c19fb1",
   "metadata": {},
   "outputs": [],
   "source": [
    "df['Connectivity'] = pd.to_numeric(df['Connectivity'], errors='coerce')\n",
    "df['Neighbourhood'] = pd.to_numeric(df['Neighbourhood'], errors='coerce')\n",
    "df['Safety'] = pd.to_numeric(df['Safety'], errors='coerce')\n",
    "df['Livability'] = pd.to_numeric(df['Livability'], errors='coerce')"
   ]
  },
  {
   "cell_type": "markdown",
   "id": "a4d2a458",
   "metadata": {},
   "source": [
    "### replace all nan with mean value"
   ]
  },
  {
   "cell_type": "code",
   "execution_count": null,
   "id": "161044d3",
   "metadata": {},
   "outputs": [],
   "source": [
    "df['Livability']=df['Livability'].fillna(df[\"Livability\"].mean())\n",
    "df['Neighbourhood']=df['Neighbourhood'].fillna(df[\"Neighbourhood\"].mean())\n",
    "df['Safety']=df['Safety'].fillna(df[\"Safety\"].mean())\n",
    "df['Connectivity']=df['Connectivity'].fillna(df[\"Connectivity\"].mean())"
   ]
  },
  {
   "cell_type": "code",
   "execution_count": null,
   "id": "eaedb2a4",
   "metadata": {},
   "outputs": [],
   "source": [
    "df[\"Bedrooms\"]=df[\"Bedrooms\"].astype(\"int\")\n",
    "df[\"Bathrooms\"]=df[\"Bathrooms\"].astype(\"int\")\n"
   ]
  },
  {
   "cell_type": "code",
   "execution_count": null,
   "id": "341ced04",
   "metadata": {},
   "outputs": [],
   "source": [
    "df.dtypes"
   ]
  },
  {
   "cell_type": "markdown",
   "id": "835ec21a",
   "metadata": {},
   "source": [
    "### finding unique values in furnishing column and replace it with nan value"
   ]
  },
  {
   "cell_type": "code",
   "execution_count": null,
   "id": "e0859fba",
   "metadata": {},
   "outputs": [],
   "source": [
    "df[\"furnishing\"].unique()"
   ]
  },
  {
   "cell_type": "code",
   "execution_count": null,
   "id": "fe8d9e38",
   "metadata": {},
   "outputs": [],
   "source": [
    "values_to_keep = [\"Unfurnished\", \"Fully Furnished\"]\n",
    "df['furnishing'] = df['furnishing'].where(df['furnishing'].isin(values_to_keep))"
   ]
  },
  {
   "cell_type": "code",
   "execution_count": null,
   "id": "0fc5cc0d",
   "metadata": {},
   "outputs": [],
   "source": [
    "\n",
    "\n",
    "furnishing_status = ['Fully Furnished', 'Unfurnished', \"Semi furnished\"]\n",
    "mask = df['furnishing'].isna()\n",
    "df.loc[mask, 'furnishing'] = np.random.choice(furnishing_status, size=mask.sum())\n"
   ]
  },
  {
   "cell_type": "code",
   "execution_count": null,
   "id": "51af0ec2",
   "metadata": {},
   "outputs": [],
   "source": [
    "df[\"furnishing\"].unique()"
   ]
  },
  {
   "cell_type": "markdown",
   "id": "4f9f5915",
   "metadata": {},
   "source": [
    " ### perform similar operation for facing column which is done to furnishing"
   ]
  },
  {
   "cell_type": "code",
   "execution_count": null,
   "id": "1fb80d18",
   "metadata": {},
   "outputs": [],
   "source": [
    "df[\"facing\"].unique()"
   ]
  },
  {
   "cell_type": "code",
   "execution_count": null,
   "id": "cc8a5a92",
   "metadata": {},
   "outputs": [],
   "source": [
    "values_to_keep = [\"North facing\", \"North-East facing\",'South facing','North-West facing','East facing', 'West facing', 'South-East facing']\n",
    "df[\"facing\"] = df['facing'].where(df['facing'].isin(values_to_keep))"
   ]
  },
  {
   "cell_type": "code",
   "execution_count": null,
   "id": "f96ba7e3",
   "metadata": {},
   "outputs": [],
   "source": [
    "df[\"facing\"]= df[\"facing\"].str.replace(\" facing\",\"\",regex=False)"
   ]
  },
  {
   "cell_type": "code",
   "execution_count": null,
   "id": "cfe15a60",
   "metadata": {},
   "outputs": [],
   "source": [
    "directions = [\n",
    "    'North',\n",
    "    'North-East',\n",
    "    'East',\n",
    "    'South-East',\n",
    "    'South',\n",
    "    'South-West',\n",
    "    'West',\n",
    "    'North-West'\n",
    "]\n",
    "mask = df['facing'].isna()\n",
    "df.loc[mask, 'facing'] = np.random.choice(directions, size=mask.sum())"
   ]
  },
  {
   "cell_type": "code",
   "execution_count": null,
   "id": "7b13d94b",
   "metadata": {},
   "outputs": [],
   "source": [
    "df[\"facing\"].unique()"
   ]
  },
  {
   "cell_type": "markdown",
   "id": "eb3be617",
   "metadata": {},
   "source": [
    "### storing it to new file "
   ]
  },
  {
   "cell_type": "code",
   "execution_count": null,
   "id": "f91d5c3f",
   "metadata": {},
   "outputs": [],
   "source": [
    "df.to_csv(\"final_data1.csv\")"
   ]
  }
 ],
 "metadata": {
  "kernelspec": {
   "display_name": "Python 3",
   "language": "python",
   "name": "python3"
  },
  "language_info": {
   "codemirror_mode": {
    "name": "ipython",
    "version": 3
   },
   "file_extension": ".py",
   "mimetype": "text/x-python",
   "name": "python",
   "nbconvert_exporter": "python",
   "pygments_lexer": "ipython3",
   "version": "3.13.2"
  }
 },
 "nbformat": 4,
 "nbformat_minor": 5
}
